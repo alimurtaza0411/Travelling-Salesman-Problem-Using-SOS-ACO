{
  "cells": [
    {
      "cell_type": "code",
      "execution_count": 2,
      "metadata": {
        "id": "4uWbWGQqPsyy"
      },
      "outputs": [],
      "source": [
        "import sys\n",
        "import os\n",
        "import subprocess\n",
        "from tqdm import tqdm\n",
        "import time"
      ]
    },
    {
      "cell_type": "code",
      "execution_count": null,
      "metadata": {
        "colab": {
          "base_uri": "https://localhost:8080/"
        },
        "id": "8_Nla-ohP41c",
        "outputId": "3722e1ef-a71c-4ef5-a6d1-2c52f8a88098"
      },
      "outputs": [
        {
          "data": {
            "text/plain": [
              "0"
            ]
          },
          "execution_count": 2,
          "metadata": {},
          "output_type": "execute_result"
        }
      ],
      "source": [
        "os.system('g++  aco.cpp')"
      ]
    },
    {
      "cell_type": "code",
      "execution_count": null,
      "metadata": {
        "colab": {
          "base_uri": "https://localhost:8080/"
        },
        "id": "kmoY_DFIP9LC",
        "outputId": "734f78db-f3a1-4742-e423-c0f1239a2183"
      },
      "outputs": [
        {
          "name": "stdout",
          "output_type": "stream",
          "text": [
            "filename:  eil51.txt\n",
            "Num of Iteration:  100\n",
            "Time take:  1.5436944484710693\n",
            "filename:  eil76.txt\n",
            "Num of Iteration:  100\n",
            "Time take:  3.337313938140869\n",
            "filename:  kroA100.txt\n",
            "Num of Iteration:  100\n",
            "Time take:  6.135630035400391\n",
            "filename:  ch150.txt\n",
            "Num of Iteration:  100\n",
            "Time take:  14.737656354904175\n",
            "filename:  kroA200.txt\n",
            "Num of Iteration:  100\n",
            "Time take:  27.11166343688965\n"
          ]
        }
      ],
      "source": [
        "dataset = ['eil51.txt','eil76.txt','kroA100.txt','ch150.txt','kroA200.txt']\n",
        "num_iterations = [50,100,150,200,250,300]\n",
        "bks =  [426,538,21282,6528,29368]\n",
        "best = [[None for i in range(6)] for i in range(5)]\n",
        "avg = [[None for i in range(6)] for i in range(5)]\n",
        "error = [[None for i in range(6)] for i in range(5)]\n",
        "num_itr=100\n",
        "for k in range(len(dataset)):\n",
        "  filename = dataset[k]\n",
        "  print(\"filename: \",filename)\n",
        "  distances = []\n",
        "  print(\"Num of Iteration: \",num_itr)\n",
        "  time_diff = []\n",
        "  for i in range(5):\n",
        "    processInfo = ['./a.out', filename,str(num_itr)]\n",
        "    start_time = time.time()\n",
        "    backend   = subprocess.Popen(processInfo, stdout=subprocess.PIPE)\n",
        "    dataBytes = backend.communicate()[0]\n",
        "    end_time = time.time()\n",
        "    time_diff.append(end_time-start_time)\n",
        "    dataStr   = dataBytes.decode('utf-8')\n",
        "    distances.append(float(dataStr))\n",
        "  print(\"Time take: \",sum(time_diff)/5)"
      ]
    },
    {
      "cell_type": "code",
      "execution_count": null,
      "metadata": {
        "colab": {
          "base_uri": "https://localhost:8080/"
        },
        "id": "fVxnnn_dQDDc",
        "outputId": "bf5cd0cd-13e1-424a-c2d1-8bbe0d738f38"
      },
      "outputs": [
        {
          "data": {
            "text/plain": [
              "0"
            ]
          },
          "execution_count": 8,
          "metadata": {},
          "output_type": "execute_result"
        }
      ],
      "source": [
        "os.system('g++  aco_sos.cpp')"
      ]
    },
    {
      "cell_type": "code",
      "execution_count": null,
      "metadata": {
        "colab": {
          "base_uri": "https://localhost:8080/"
        },
        "id": "nJao7E5HYMd7",
        "outputId": "73d398e6-b02e-49f0-f5b3-82516b9b4ace"
      },
      "outputs": [
        {
          "name": "stdout",
          "output_type": "stream",
          "text": [
            "filename:  eil51.txt\n",
            "Num of Iteration:  100\n",
            "Time take:  7.2091046333312985\n",
            "filename:  eil76.txt\n",
            "Num of Iteration:  100\n",
            "Time take:  15.807783794403075\n",
            "filename:  kroA100.txt\n",
            "Num of Iteration:  100\n",
            "Time take:  26.97062201499939\n",
            "filename:  ch150.txt\n",
            "Num of Iteration:  100\n",
            "Time take:  60.50026960372925\n",
            "filename:  kroA200.txt\n",
            "Num of Iteration:  100\n",
            "Time take:  108.80023202896118\n"
          ]
        }
      ],
      "source": [
        "dataset = ['eil51.txt','eil76.txt','kroA100.txt','ch150.txt','kroA200.txt']\n",
        "num_iterations = [50,100,150,200,250,300]\n",
        "bks =  [426,538,21282,6528,29368]\n",
        "best = [[None for i in range(6)] for i in range(5)]\n",
        "avg = [[None for i in range(6)] for i in range(5)]\n",
        "error = [[None for i in range(6)] for i in range(5)]\n",
        "num_itr=100\n",
        "for k in range(len(dataset)):\n",
        "  filename = dataset[k]\n",
        "  print(\"filename: \",filename)\n",
        "  distances = []\n",
        "  print(\"Num of Iteration: \",num_itr)\n",
        "  time_diff = []\n",
        "  for i in range(5):\n",
        "    processInfo = ['./a.out', filename,str(num_itr)]\n",
        "    start_time = time.time()\n",
        "    backend   = subprocess.Popen(processInfo, stdout=subprocess.PIPE)\n",
        "    dataBytes = backend.communicate()[0]\n",
        "    end_time = time.time()\n",
        "    time_diff.append(end_time-start_time)\n",
        "    dataStr   = dataBytes.decode('utf-8')\n",
        "    distances.append(float(dataStr))\n",
        "  print(\"Time take: \",sum(time_diff)/5)"
      ]
    },
    {
      "cell_type": "code",
      "execution_count": null,
      "metadata": {
        "colab": {
          "base_uri": "https://localhost:8080/"
        },
        "id": "q-LPRzf1YjZ7",
        "outputId": "33f1c2ad-d976-4b4d-e1a6-31e8d32bd5bb"
      },
      "outputs": [
        {
          "data": {
            "text/plain": [
              "0"
            ]
          },
          "execution_count": 10,
          "metadata": {},
          "output_type": "execute_result"
        }
      ],
      "source": [
        "os.system('g++  aco_sos_lo.cpp')"
      ]
    },
    {
      "cell_type": "code",
      "execution_count": null,
      "metadata": {
        "colab": {
          "base_uri": "https://localhost:8080/"
        },
        "id": "RMGTKOHUYmf2",
        "outputId": "9cd48471-8ea5-43bc-f197-2341379f20d9"
      },
      "outputs": [
        {
          "name": "stdout",
          "output_type": "stream",
          "text": [
            "filename:  eil51.txt\n",
            "Num of Iteration:  100\n",
            "Time take:  7.46146330833435\n",
            "filename:  eil76.txt\n",
            "Num of Iteration:  100\n",
            "Time take:  16.455479621887207\n",
            "filename:  kroA100.txt\n",
            "Num of Iteration:  100\n",
            "Time take:  27.99774522781372\n",
            "filename:  ch150.txt\n",
            "Num of Iteration:  100\n",
            "Time take:  63.68089199066162\n",
            "filename:  kroA200.txt\n",
            "Num of Iteration:  100\n",
            "Time take:  112.17758464813232\n"
          ]
        }
      ],
      "source": [
        "dataset = ['eil51.txt','eil76.txt','kroA100.txt','ch150.txt','kroA200.txt']\n",
        "num_iterations = [50,100,150,200,250,300]\n",
        "bks =  [426,538,21282,6528,29368]\n",
        "best = [[None for i in range(6)] for i in range(5)]\n",
        "avg = [[None for i in range(6)] for i in range(5)]\n",
        "error = [[None for i in range(6)] for i in range(5)]\n",
        "num_itr=100\n",
        "for k in range(len(dataset)):\n",
        "  filename = dataset[k]\n",
        "  print(\"filename: \",filename)\n",
        "  distances = []\n",
        "  print(\"Num of Iteration: \",num_itr)\n",
        "  time_diff = []\n",
        "  for i in range(5):\n",
        "    processInfo = ['./a.out', filename,str(num_itr)]\n",
        "    start_time = time.time()\n",
        "    backend   = subprocess.Popen(processInfo, stdout=subprocess.PIPE)\n",
        "    dataBytes = backend.communicate()[0]\n",
        "    end_time = time.time()\n",
        "    time_diff.append(end_time-start_time)\n",
        "    dataStr   = dataBytes.decode('utf-8')\n",
        "    distances.append(float(dataStr))\n",
        "  print(\"Time take: \",sum(time_diff)/5)"
      ]
    },
    {
      "cell_type": "code",
      "execution_count": 5,
      "metadata": {
        "colab": {
          "base_uri": "https://localhost:8080/"
        },
        "id": "2iUmP8EPYneO",
        "outputId": "56abd45b-e991-4614-efc6-74101a13c48f"
      },
      "outputs": [
        {
          "output_type": "execute_result",
          "data": {
            "text/plain": [
              "256"
            ]
          },
          "metadata": {},
          "execution_count": 5
        }
      ],
      "source": [
        "os.system('g++  aco_sos_RR.cpp')"
      ]
    },
    {
      "cell_type": "code",
      "execution_count": 6,
      "metadata": {
        "colab": {
          "base_uri": "https://localhost:8080/"
        },
        "id": "CpRxkb-zYsir",
        "outputId": "ef34ea17-f5d9-4ff7-e49b-16d253a18b26"
      },
      "outputs": [
        {
          "output_type": "stream",
          "name": "stdout",
          "text": [
            "filename:  eil51.txt\n",
            "Num of Iteration:  100\n",
            "Time take:  8.06761040687561\n",
            "filename:  eil76.txt\n",
            "Num of Iteration:  100\n",
            "Time take:  16.524728345870972\n",
            "filename:  kroA100.txt\n",
            "Num of Iteration:  100\n",
            "Time take:  28.01352858543396\n",
            "filename:  ch150.txt\n",
            "Num of Iteration:  100\n",
            "Time take:  61.827541971206664\n",
            "filename:  kroA200.txt\n",
            "Num of Iteration:  100\n",
            "Time take:  108.46364197731017\n"
          ]
        }
      ],
      "source": [
        "dataset = ['eil51.txt','eil76.txt','kroA100.txt','ch150.txt','kroA200.txt']\n",
        "num_iterations = [50,100,150,200,250,300]\n",
        "bks =  [426,538,21282,6528,29368]\n",
        "best = [[None for i in range(6)] for i in range(5)]\n",
        "avg = [[None for i in range(6)] for i in range(5)]\n",
        "error = [[None for i in range(6)] for i in range(5)]\n",
        "num_itr=100\n",
        "for k in range(len(dataset)):\n",
        "  filename = dataset[k]\n",
        "  print(\"filename: \",filename)\n",
        "  distances = []\n",
        "  print(\"Num of Iteration: \",num_itr)\n",
        "  time_diff = []\n",
        "  for i in range(5):\n",
        "    processInfo = ['./a.out', filename,str(num_itr)]\n",
        "    start_time = time.time()\n",
        "    backend   = subprocess.Popen(processInfo, stdout=subprocess.PIPE)\n",
        "    dataBytes = backend.communicate()[0]\n",
        "    end_time = time.time()\n",
        "    time_diff.append(end_time-start_time)\n",
        "    dataStr   = dataBytes.decode('utf-8')\n",
        "    distances.append(float(dataStr))\n",
        "  print(\"Time take: \",sum(time_diff)/5)"
      ]
    },
    {
      "cell_type": "code",
      "execution_count": 3,
      "metadata": {
        "id": "OMV0gnZbkazs",
        "colab": {
          "base_uri": "https://localhost:8080/"
        },
        "outputId": "3c7b2517-7687-4254-e244-a26ef5b46580"
      },
      "outputs": [
        {
          "output_type": "execute_result",
          "data": {
            "text/plain": [
              "0"
            ]
          },
          "metadata": {},
          "execution_count": 3
        }
      ],
      "source": [
        "os.system('g++  aco_sos_2OPT.cpp')"
      ]
    },
    {
      "cell_type": "code",
      "execution_count": 4,
      "metadata": {
        "colab": {
          "base_uri": "https://localhost:8080/"
        },
        "id": "69X8v0eFkjjj",
        "outputId": "003e1efd-58e5-421c-c162-578c8d6cf8aa"
      },
      "outputs": [
        {
          "output_type": "stream",
          "name": "stdout",
          "text": [
            "filename:  eil51.txt\n",
            "Num of Iteration:  100\n",
            "Time take:  7.821512842178345\n",
            "filename:  eil76.txt\n",
            "Num of Iteration:  100\n",
            "Time take:  16.61291971206665\n",
            "filename:  kroA100.txt\n",
            "Num of Iteration:  100\n",
            "Time take:  28.027027225494386\n",
            "filename:  ch150.txt\n",
            "Num of Iteration:  100\n",
            "Time take:  62.43530268669129\n",
            "filename:  kroA200.txt\n",
            "Num of Iteration:  100\n",
            "Time take:  109.38580236434936\n"
          ]
        }
      ],
      "source": [
        "dataset = ['eil51.txt','eil76.txt','kroA100.txt','ch150.txt','kroA200.txt']\n",
        "num_iterations = [50,100,150,200,250,300]\n",
        "bks =  [426,538,21282,6528,29368]\n",
        "best = [[None for i in range(6)] for i in range(5)]\n",
        "avg = [[None for i in range(6)] for i in range(5)]\n",
        "error = [[None for i in range(6)] for i in range(5)]\n",
        "num_itr=100\n",
        "for k in range(len(dataset)):\n",
        "  filename = dataset[k]\n",
        "  print(\"filename: \",filename)\n",
        "  distances = []\n",
        "  print(\"Num of Iteration: \",num_itr)\n",
        "  time_diff = []\n",
        "  for i in range(5):\n",
        "    processInfo = ['./a.out', filename,str(num_itr)]\n",
        "    start_time = time.time()\n",
        "    backend   = subprocess.Popen(processInfo, stdout=subprocess.PIPE)\n",
        "    dataBytes = backend.communicate()[0]\n",
        "    end_time = time.time()\n",
        "    time_diff.append(end_time-start_time)\n",
        "    dataStr   = dataBytes.decode('utf-8')\n",
        "    distances.append(float(dataStr))\n",
        "  print(\"Time take: \",sum(time_diff)/5)"
      ]
    },
    {
      "cell_type": "code",
      "execution_count": null,
      "metadata": {
        "id": "BfHJ2onhkhbm"
      },
      "outputs": [],
      "source": []
    }
  ],
  "metadata": {
    "colab": {
      "provenance": []
    },
    "kernelspec": {
      "display_name": "Python 3",
      "name": "python3"
    },
    "language_info": {
      "name": "python"
    }
  },
  "nbformat": 4,
  "nbformat_minor": 0
}