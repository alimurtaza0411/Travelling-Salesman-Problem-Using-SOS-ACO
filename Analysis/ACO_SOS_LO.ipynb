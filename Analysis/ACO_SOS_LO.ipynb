{
  "nbformat": 4,
  "nbformat_minor": 0,
  "metadata": {
    "colab": {
      "provenance": [],
      "collapsed_sections": []
    },
    "kernelspec": {
      "name": "python3",
      "display_name": "Python 3"
    },
    "language_info": {
      "name": "python"
    }
  },
  "cells": [
    {
      "cell_type": "code",
      "execution_count": null,
      "metadata": {
        "id": "VHju3v6t5caN"
      },
      "outputs": [],
      "source": [
        "!g++ main.cpp -o a.out"
      ]
    },
    {
      "cell_type": "code",
      "source": [
        "!./a.out eil51.txt 100"
      ],
      "metadata": {
        "colab": {
          "base_uri": "https://localhost:8080/"
        },
        "id": "QdGdBbPe5wPw",
        "outputId": "0ed886f3-cdd2-40d0-c628-958040567e24"
      },
      "execution_count": null,
      "outputs": [
        {
          "output_type": "stream",
          "name": "stdout",
          "text": [
            "Dataset: eil51.txt\n",
            "Number of Iterations: 100\n",
            "Best Path Distance: 434.463\n"
          ]
        }
      ]
    },
    {
      "cell_type": "code",
      "source": [
        "!./a.out eil51.txt 100"
      ],
      "metadata": {
        "colab": {
          "base_uri": "https://localhost:8080/"
        },
        "id": "G1dNlCMC7hJ3",
        "outputId": "77b5b8cf-8321-4d29-beb1-d3699082d26e"
      },
      "execution_count": null,
      "outputs": [
        {
          "output_type": "stream",
          "name": "stdout",
          "text": [
            "Dataset: eil51.txt\n",
            "Number of Iterations: 100\n",
            "Best Path Distance: 434.754\n"
          ]
        }
      ]
    },
    {
      "cell_type": "code",
      "source": [
        "!./a.out eil51.txt 100"
      ],
      "metadata": {
        "colab": {
          "base_uri": "https://localhost:8080/"
        },
        "id": "v672ii3YApIm",
        "outputId": "be2013a2-fb25-4dee-b164-5f8dc380608a"
      },
      "execution_count": null,
      "outputs": [
        {
          "output_type": "stream",
          "name": "stdout",
          "text": [
            "Dataset: eil51.txt\n",
            "Number of Iterations: 100\n",
            "Best Path Distance: 437.772\n"
          ]
        }
      ]
    },
    {
      "cell_type": "code",
      "source": [
        "import os\n",
        "os.system(\"./a.out eil51.txt 100\")"
      ],
      "metadata": {
        "colab": {
          "base_uri": "https://localhost:8080/"
        },
        "id": "Sj1YT-LHAxLO",
        "outputId": "d9612900-a4ec-4260-83d1-73e7cbfbc5c1"
      },
      "execution_count": null,
      "outputs": [
        {
          "output_type": "execute_result",
          "data": {
            "text/plain": [
              "0"
            ]
          },
          "metadata": {},
          "execution_count": 52
        }
      ]
    },
    {
      "cell_type": "code",
      "source": [
        "import sys\n",
        "import os\n",
        "import subprocess\n",
        "from tqdm import tqdm"
      ],
      "metadata": {
        "id": "FeeVI6y0DNqQ"
      },
      "execution_count": 60,
      "outputs": []
    },
    {
      "cell_type": "code",
      "source": [
        "os.system('g++ -I ./ main.cpp')"
      ],
      "metadata": {
        "id": "z7HSUqNtCCn9",
        "colab": {
          "base_uri": "https://localhost:8080/"
        },
        "outputId": "a9abe389-8929-48f8-9a87-555c52931d49"
      },
      "execution_count": 61,
      "outputs": [
        {
          "output_type": "execute_result",
          "data": {
            "text/plain": [
              "0"
            ]
          },
          "metadata": {},
          "execution_count": 61
        }
      ]
    },
    {
      "cell_type": "code",
      "source": [
        "dataset = ['eil51.txt','eil76.txt','kroA100.txt','ch150.txt','kroA200.txt']\n",
        "num_iterations = [50,100,150,200,250,300]\n",
        "bks =  [426,538,21282,6528,29368]\n",
        "best = [[None for i in range(6)] for i in range(5)]\n",
        "avg = [[None for i in range(6)] for i in range(5)]\n",
        "error = [[None for i in range(6)] for i in range(5)]\n",
        "for k in range(len(dataset)):\n",
        "  filename = dataset[k]\n",
        "  print(\"filename: \",filename)\n",
        "  for j in range(len(num_iterations)):\n",
        "    num_itr = num_iterations[j]\n",
        "    distances = []\n",
        "    print(\"Num of Iteration: \",num_itr)\n",
        "    for i in range(5):\n",
        "      processInfo = ['./a.out', filename,str(num_itr)]\n",
        "      backend   = subprocess.Popen(processInfo, stdout=subprocess.PIPE)\n",
        "      dataBytes = backend.communicate()[0]\n",
        "      dataStr   = dataBytes.decode('utf-8')\n",
        "      distances.append(float(dataStr))\n",
        "    best[k][j] = min(distances)\n",
        "    avg[k][j] = sum(distances)/len(distances)\n",
        "    error[k][j] = ((avg[k][j]-bks[k])/bks[k])*100\n",
        "    print(\"best: \", best[k][j])\n",
        "    print(\"average: \",avg[k][j])\n",
        "    print(\"error: \",error[k][j])\n",
        "    print(\"\\n\")\n"
      ],
      "metadata": {
        "colab": {
          "base_uri": "https://localhost:8080/"
        },
        "id": "88sIfI3XDkCr",
        "outputId": "a60f02b5-3072-450d-8a6c-64c9be5fde8d"
      },
      "execution_count": 67,
      "outputs": [
        {
          "output_type": "stream",
          "name": "stdout",
          "text": [
            "filename:  eil51.txt\n",
            "Num of Iteration:  50\n",
            "best:  437.239\n",
            "average:  442.9572\n",
            "error:  3.98056338028169\n",
            "\n",
            "\n",
            "Num of Iteration:  100\n",
            "best:  441.7\n",
            "average:  444.0162\n",
            "error:  4.22915492957747\n",
            "\n",
            "\n",
            "Num of Iteration:  150\n",
            "best:  431.038\n",
            "average:  439.5076\n",
            "error:  3.1707981220657335\n",
            "\n",
            "\n",
            "Num of Iteration:  200\n",
            "best:  431.33\n",
            "average:  437.21360000000004\n",
            "error:  2.632300469483578\n",
            "\n",
            "\n",
            "Num of Iteration:  250\n",
            "best:  433.542\n",
            "average:  439.1062\n",
            "error:  3.076572769953052\n",
            "\n",
            "\n",
            "Num of Iteration:  300\n",
            "best:  434.145\n",
            "average:  437.00280000000004\n",
            "error:  2.582816901408459\n",
            "\n",
            "\n",
            "filename:  eil76.txt\n",
            "Num of Iteration:  50\n",
            "best:  553.738\n",
            "average:  556.2016000000001\n",
            "error:  3.3831970260223234\n",
            "\n",
            "\n",
            "Num of Iteration:  100\n",
            "best:  552.964\n",
            "average:  558.2668\n",
            "error:  3.76706319702602\n",
            "\n",
            "\n",
            "Num of Iteration:  150\n",
            "best:  552.97\n",
            "average:  558.5508\n",
            "error:  3.819851301115238\n",
            "\n",
            "\n",
            "Num of Iteration:  200\n",
            "best:  553.76\n",
            "average:  556.1515999999999\n",
            "error:  3.3739033457248913\n",
            "\n",
            "\n",
            "Num of Iteration:  250\n",
            "best:  554.056\n",
            "average:  556.0788\n",
            "error:  3.360371747211896\n",
            "\n",
            "\n",
            "Num of Iteration:  300\n",
            "best:  553.217\n",
            "average:  555.9104\n",
            "error:  3.3290706319702568\n",
            "\n",
            "\n",
            "filename:  kroA100.txt\n",
            "Num of Iteration:  50\n",
            "best:  21594.6\n",
            "average:  22027.26\n",
            "error:  3.50183253453622\n",
            "\n",
            "\n",
            "Num of Iteration:  100\n",
            "best:  21539.9\n",
            "average:  21729.0\n",
            "error:  2.1003665069072457\n",
            "\n",
            "\n",
            "Num of Iteration:  150\n",
            "best:  21495.3\n",
            "average:  21668.64\n",
            "error:  1.8167465463772174\n",
            "\n",
            "\n",
            "Num of Iteration:  200\n",
            "best:  21495.3\n",
            "average:  21664.780000000002\n",
            "error:  1.7986091532750796\n",
            "\n",
            "\n",
            "Num of Iteration:  250\n",
            "best:  21427.0\n",
            "average:  21574.480000000003\n",
            "error:  1.3743069260408005\n",
            "\n",
            "\n",
            "Num of Iteration:  300\n",
            "best:  21552.7\n",
            "average:  21653.78\n",
            "error:  1.7469222817404324\n",
            "\n",
            "\n",
            "filename:  ch150.txt\n",
            "Num of Iteration:  50\n",
            "best:  6609.16\n",
            "average:  6627.316000000001\n",
            "error:  1.5213848039215796\n",
            "\n",
            "\n",
            "Num of Iteration:  100\n",
            "best:  6576.64\n",
            "average:  6590.354000000001\n",
            "error:  0.9551776960784495\n",
            "\n",
            "\n",
            "Num of Iteration:  150\n",
            "best:  6569.25\n",
            "average:  6576.994000000001\n",
            "error:  0.7505208333333424\n",
            "\n",
            "\n",
            "Num of Iteration:  200\n",
            "best:  6560.07\n",
            "average:  6572.066000000001\n",
            "error:  0.6750306372549129\n",
            "\n",
            "\n",
            "Num of Iteration:  250\n",
            "best:  6564.94\n",
            "average:  6575.908\n",
            "error:  0.7338848039215741\n",
            "\n",
            "\n",
            "Num of Iteration:  300\n",
            "best:  6560.07\n",
            "average:  6573.442000000001\n",
            "error:  0.696109068627465\n",
            "\n",
            "\n",
            "filename:  kroA200.txt\n",
            "Num of Iteration:  50\n",
            "best:  30419.6\n",
            "average:  30697.879999999997\n",
            "error:  4.528330155271034\n",
            "\n",
            "\n",
            "Num of Iteration:  100\n",
            "best:  29845.5\n",
            "average:  30029.48\n",
            "error:  2.252383546717514\n",
            "\n",
            "\n",
            "Num of Iteration:  150\n",
            "best:  29637.3\n",
            "average:  29764.52\n",
            "error:  1.3501770634704455\n",
            "\n",
            "\n",
            "Num of Iteration:  200\n",
            "best:  29632.7\n",
            "average:  29782.24\n",
            "error:  1.4105148460909889\n",
            "\n",
            "\n",
            "Num of Iteration:  250\n",
            "best:  29628.8\n",
            "average:  29695.140000000003\n",
            "error:  1.113933533097259\n",
            "\n",
            "\n",
            "Num of Iteration:  300\n",
            "best:  29789.6\n",
            "average:  29814.619999999995\n",
            "error:  1.5207709071097635\n",
            "\n",
            "\n"
          ]
        }
      ]
    },
    {
      "cell_type": "code",
      "source": [],
      "metadata": {
        "id": "czhiLF7fGgJR"
      },
      "execution_count": null,
      "outputs": []
    }
  ]
}